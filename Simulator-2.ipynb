{
 "cells": [
  {
   "cell_type": "code",
   "execution_count": 56,
   "metadata": {
    "colab": {},
    "colab_type": "code",
    "id": "seo3aDaUKps1"
   },
   "outputs": [],
   "source": [
    "#importing the required libraries and packages\n",
    "import pandas_datareader as web\n",
    "import pandas as pd\n",
    "import numpy as np\n",
    "import datetime as dt\n",
    "import math\n",
    "import warnings\n",
    "\n",
    "warnings.filterwarnings(\"ignore\")\n"
   ]
  },
  {
   "cell_type": "code",
   "execution_count": 72,
   "metadata": {
    "colab": {},
    "colab_type": "code",
    "id": "jt6tuzEkKw3e"
   },
   "outputs": [],
   "source": [
    "#extracting the data \n",
    "stocks=[]\n",
    "f = open(\"symbols1.txt\",\"r\")\n",
    "for line in f:\n",
    "  stocks.append(line.strip())\n",
    "f.close()\n",
    "web.DataReader(stocks,\"yahoo\",start=\"2000-1-1\",end=\"2019-12-31\")[\"Close\"].to_csv(\"price.csv\")\n",
    "web.DataReader(stocks,\"yahoo\",start=\"2000-1-1\",end=\"2019-12-31\")[\"Volume\"].to_csv(\"Volume.csv\")"
   ]
  },
  {
   "cell_type": "code",
   "execution_count": 74,
   "metadata": {
    "colab": {},
    "colab_type": "code",
    "id": "r_LPaRiWRR5U"
   },
   "outputs": [],
   "source": [
    "#saving the data inhe variable\n",
    "prices = pd.read_csv(\"price.csv\", index_col=\"Date\", parse_dates=True)\n",
    "volumechanges = pd.read_csv(\"Volume.csv\", index_col=\"Date\", parse_dates=True).pct_change()*100\n"
   ]
  },
  {
   "cell_type": "code",
   "execution_count": 76,
   "metadata": {
    "colab": {},
    "colab_type": "code",
    "id": "OMImUjhxBu_4"
   },
   "outputs": [],
   "source": [
    "#initialising the global variables\n",
    "today = dt.date(2000, 1, 15)\n",
    "simend = dt.date(2019, 12, 31)\n",
    "tickers = []\n",
    "transactionid = 0\n",
    "money = 1000000\n",
    "portfolio = {}\n",
    "activelog = []\n",
    "transactionlog = []\n"
   ]
  },
  {
   "cell_type": "code",
   "execution_count": 77,
   "metadata": {
    "colab": {},
    "colab_type": "code",
    "id": "XPcPh-eZB3RO"
   },
   "outputs": [],
   "source": [
    "#function to exctract the current stock price\n",
    "def getprice(date, ticker):\n",
    "    global prices\n",
    "    return prices.loc[date][ticker]\n"
   ]
  },
  {
   "cell_type": "code",
   "execution_count": 78,
   "metadata": {
    "colab": {},
    "colab_type": "code",
    "id": "Ik8r9CmiB59N"
   },
   "outputs": [],
   "source": [
    "#transanction function\n",
    "def transaction(id, ticker, amount, price, type, info):\n",
    "    global transactionid\n",
    "    if type == \"buy\":\n",
    "        exp_date = today + dt.timedelta(days=14)\n",
    "        transactionid += 1\n",
    "    else:\n",
    "        exp_date = today\n",
    "    if type == \"sell\":\n",
    "        data = {\"id\": id, \"ticker\": ticker, \"amount\": amount, \"price\": price, \"date\": today, \"type\": type,\n",
    "                \"exp_date\": exp_date, \"info\": info}\n",
    "    elif type == \"buy\":\n",
    "        data = {\"id\": transactionid, \"ticker\": ticker, \"amount\": amount, \"price\": price, \"date\": today, \"type\": type,\n",
    "                \"exp_date\": exp_date, \"info\": info}\n",
    "        activelog.append(data)\n",
    "    transactionlog.append(data)"
   ]
  },
  {
   "cell_type": "code",
   "execution_count": 79,
   "metadata": {
    "colab": {},
    "colab_type": "code",
    "id": "3CVgboC2B8co"
   },
   "outputs": [],
   "source": [
    "#function for stock buy\n",
    "def buy(interestlst, allocated_money):\n",
    "    global money, portfolio\n",
    "    for item in interestlst:\n",
    "        price = getprice(today, item)\n",
    "        if not np.isnan(price):\n",
    "            quantity = math.floor(allocated_money/price)\n",
    "            money -= quantity*price\n",
    "            portfolio[item] += quantity\n",
    "            transaction(0, item, quantity, price, \"buy\", \"\")"
   ]
  },
  {
   "cell_type": "code",
   "execution_count": 80,
   "metadata": {
    "colab": {},
    "colab_type": "code",
    "id": "vtRzxqLQB_OD"
   },
   "outputs": [],
   "source": [
    "#function for stock sell\n",
    "def sell():\n",
    "    global money, portfolio, prices, today\n",
    "    itemstoremove = []\n",
    "    for i in range(len(activelog)):\n",
    "        log = activelog[i]\n",
    "        if log[\"exp_date\"] <= today and log[\"type\"] == \"buy\":\n",
    "            tickprice = getprice(today, log[\"ticker\"])\n",
    "            if not np.isnan(tickprice):\n",
    "                money += log[\"amount\"]*tickprice\n",
    "                portfolio[log[\"ticker\"]] -= log[\"amount\"]\n",
    "                transaction(log[\"id\"], log[\"ticker\"], log[\"amount\"], tickprice, \"sell\", log[\"info\"])\n",
    "                itemstoremove.append(i)\n",
    "            else:\n",
    "                log[\"exp_date\"] += dt.timedelta(days=1)\n",
    "    itemstoremove.reverse()\n",
    "    for elem in itemstoremove:\n",
    "        activelog.remove(activelog[elem])"
   ]
  },
  {
   "cell_type": "code",
   "execution_count": 81,
   "metadata": {
    "colab": {},
    "colab_type": "code",
    "id": "nu_a7L3vCBoL"
   },
   "outputs": [],
   "source": [
    "#simulation function\n",
    "def simulation():\n",
    "    global today, volumechanges, money\n",
    "    start_date = today - dt.timedelta(days=14)\n",
    "    series = volumechanges.loc[start_date:today].mean()\n",
    "    interestlst = series[series > 100].index.tolist()\n",
    "    sell()\n",
    "    if len(interestlst) > 0:\n",
    "        #moneyToAllocate = 500000/len(interestlst)\n",
    "        moneyToAllocate = currentvalue()/(2*len(interestlst))\n",
    "        buy(interestlst, moneyToAllocate)"
   ]
  },
  {
   "cell_type": "code",
   "execution_count": 82,
   "metadata": {
    "colab": {},
    "colab_type": "code",
    "id": "Bqv5IrJzCD8K"
   },
   "outputs": [],
   "source": [
    "#helping function\n",
    "def getindices():\n",
    "    global tickers\n",
    "    f = open(\"symbols1.txt\", \"r\")\n",
    "    for line in f:\n",
    "        tickers.append(line.strip())\n",
    "    f.close()"
   ]
  },
  {
   "cell_type": "code",
   "execution_count": 83,
   "metadata": {
    "colab": {},
    "colab_type": "code",
    "id": "3YwbT37mCFuF"
   },
   "outputs": [],
   "source": [
    "def tradingday():\n",
    "    global prices, today\n",
    "    return np.datetime64(today) in list(prices.index.values)\n"
   ]
  },
  {
   "cell_type": "code",
   "execution_count": 84,
   "metadata": {
    "colab": {},
    "colab_type": "code",
    "id": "vP5XcDVbCJAs"
   },
   "outputs": [],
   "source": [
    "def currentvalue():\n",
    "    global money, portfolio, today, prices\n",
    "    #print(money)\n",
    "    value = money\n",
    "    for ticker in tickers:\n",
    "        tickprice = getprice(today, ticker)\n",
    "        if not np.isnan(tickprice):\n",
    "            value += portfolio[ticker]*tickprice\n",
    "    return int(value*100)/100"
   ]
  },
  {
   "cell_type": "code",
   "execution_count": 86,
   "metadata": {
    "colab": {
     "base_uri": "https://localhost:8080/",
     "height": 1000
    },
    "colab_type": "code",
    "id": "M3OftHkMCLAa",
    "outputId": "bfe7242f-814a-42bc-a29a-5cbd1871fd74"
   },
   "outputs": [
    {
     "name": "stdout",
     "output_type": "stream",
     "text": [
      "1147668.2 2019-12-31\n"
     ]
    }
   ],
   "source": [
    "#main body of the simulation\n",
    "def main():\n",
    "    global today\n",
    "    getindices()\n",
    "    for ticker in tickers:\n",
    "        portfolio[ticker] = 0\n",
    "    while today < simend:\n",
    "        while not tradingday():\n",
    "            today += dt.timedelta(days=1)\n",
    "        simulation()\n",
    "        currentpvalue = currentvalue()\n",
    "        #yesterday=today\n",
    "        today += dt.timedelta(days=7)\n",
    "    print(currentpvalue, today)\n",
    "main()"
   ]
  },
  {
   "cell_type": "code",
   "execution_count": null,
   "metadata": {
    "colab": {},
    "colab_type": "code",
    "id": "c2qSAqohCO7R"
   },
   "outputs": [],
   "source": []
  }
 ],
 "metadata": {
  "colab": {
   "name": "Untitled5.ipynb",
   "provenance": []
  },
  "kernelspec": {
   "display_name": "Python 3",
   "language": "python",
   "name": "python3"
  },
  "language_info": {
   "codemirror_mode": {
    "name": "ipython",
    "version": 3
   },
   "file_extension": ".py",
   "mimetype": "text/x-python",
   "name": "python",
   "nbconvert_exporter": "python",
   "pygments_lexer": "ipython3",
   "version": "3.7.4"
  }
 },
 "nbformat": 4,
 "nbformat_minor": 1
}
